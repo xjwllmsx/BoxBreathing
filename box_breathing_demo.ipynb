{
 "cells": [
  {
   "cell_type": "markdown",
   "id": "b9f13e87",
   "metadata": {},
   "source": [
    "# Box Breathing Demo\n",
    "\n",
    "Welcome to the **Box Breathing** app.\n",
    "\n",
    "This simple Python app guides you through a calming box breathing exercise.  \n",
    "Box breathing is a deep breathing technique that can help reduce stress and improve focus.\n",
    "\n",
    "## How It Works\n",
    "Box breathing consists of four equal steps:\n",
    "1. **Inhale** for a set number of seconds\n",
    "2. **Hold** your breath for the same number of seconds\n",
    "3. **Exhale** for the same number of seconds\n",
    "4. **Hold** again before the next inhale\n",
    "\n",
    "Each step typically lasts **4 seconds**, and the cycle repeats several times.\n",
    "\n",
    "---\n",
    "\n",
    "## How to Run This Demo\n",
    "\n",
    "1. Run the code cell below to load the breathing functions.\n",
    "2. When prompted, enter the number of breathing cycles you would like to complete.\n",
    "3. Follow along with the breathing prompts displayed in the output.\n",
    "\n",
    "Each full cycle will walk you through inhale, hold, exhale, and hold steps.\n",
    "\n",
    "**Tip:** Try setting a small number of cycles (like 1 or 2) to start.\n",
    "\n",
    "---\n",
    "\n",
    "Thank you for trying this demo.\n"
   ]
  },
  {
   "cell_type": "code",
   "execution_count": null,
   "id": "33db0ef5",
   "metadata": {},
   "outputs": [],
   "source": [
    "# Import box_breathing function from main.py\n",
    "from main import box_breathing\n",
    "\n",
    "box_breathing()"
   ]
  }
 ],
 "metadata": {
  "language_info": {
   "name": "python"
  }
 },
 "nbformat": 4,
 "nbformat_minor": 5
}
